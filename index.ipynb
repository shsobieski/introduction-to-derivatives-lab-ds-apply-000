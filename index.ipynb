{
 "cells": [
  {
   "cell_type": "markdown",
   "metadata": {},
   "source": [
    "# Derivatives of Linear Functions Lab"
   ]
  },
  {
   "cell_type": "markdown",
   "metadata": {},
   "source": [
    "### Introduction: Start here\n",
    "\n",
    "In this lab, we will practice our knowledge of derivatives. Remember that our key formula for derivatives, is \n",
    "$f'(x) = \\frac{\\Delta y}{\\Delta x} =  \\frac{f(x + \\Delta x) - f(x)}{\\Delta x}$.  So in driving towards this formula, we will do the following: \n",
    "\n",
    "1. Learn how to represent linear and nonlinear functions in code.  \n",
    "2. Then because our calculation of a derivative relies on seeing the output at an initial value and the output at that value plus delta x, we need an `output_at` function.  \n",
    "3. Then we will be able to code the $\\Delta f$ function that sees the change in output between the initial x and that initial x plus the $\\Delta x$ \n",
    "4. Finally, we will calculate the derivative at a given x value, `derivative_at`. \n",
    "\n",
    "### Learning objectives \n",
    "\n",
    "For this first section, you should be able to answer all of the question with an understanding of our definition of a derivative:\n",
    "\n",
    "1. Our intuitive explanation that a derivative is the instantaneous rate of change of a function\n",
    "2. Our mathematical definition is that \n",
    "\n",
    "$f'(x) = \\frac{\\Delta y}{\\Delta x} =  \\frac{f(x + \\Delta x) - f(x)}{\\Delta x}$"
   ]
  },
  {
   "cell_type": "markdown",
   "metadata": {},
   "source": [
    "### Let's begin: Starting with functions"
   ]
  },
  {
   "cell_type": "markdown",
   "metadata": {},
   "source": [
    "#### 1. Representing Functions"
   ]
  },
  {
   "cell_type": "markdown",
   "metadata": {},
   "source": [
    "We are about to learn to take the derivative of a function in code.  But before doing so, we need to learn how to express any kind of function in code.  This way when we finally write our functions for calculating the derivative, we can use them with both linear and nonlinear functions.\n",
    "\n",
    "For example, we want to write the function $f(x) = 2x^2 + 4x - 10 $ in a way that allows us to easily determine the exponent of each term.\n",
    "\n",
    "This is our technique: write the formula as a list of tuples.  \n",
    "\n",
    "> A tuple is a list whose elements cannot be reassigned.  But everything else, for our purposes, is the same.  \n",
    "```python\n",
    "tuple = (7, 3)\n",
    "tuple[0] # 7\n",
    "tuple[1] # 3\n",
    "```\n",
    "\n",
    "> We get a TyperError if we try to reassign the tuple's elements.\n",
    "```python\n",
    "tuple[0] = 7\n",
    "# TypeError: 'tuple' object does not support item assignment\n",
    "```\n",
    "\n",
    "Take the following function as an example: \n",
    "\n",
    "$$f(x) = 4x^2 + 4x - 10 $$"
   ]
  },
  {
   "cell_type": "markdown",
   "metadata": {},
   "source": [
    "Here it is as a list of tuples:"
   ]
  },
  {
   "cell_type": "code",
   "execution_count": 1,
   "metadata": {},
   "outputs": [],
   "source": [
    "four_x_squared_plus_four_x_minus_ten = [(4, 2), (4, 1), (-10, 0)]"
   ]
  },
  {
   "cell_type": "markdown",
   "metadata": {},
   "source": [
    "So each tuple in the list represents a different term in the function.  The first element of the tuple is the term's constant and the second element of the tuple is the term's exponent.  Thus $4x^2$ translates to `(4, 2)` and  $-10$ translates to `(-10, 0)` because $-10$ is the same as $-10*x^0$.  \n",
    "> We'll refer to this list of tuples as \"list of terms\", or `list_of_terms`."
   ]
  },
  {
   "cell_type": "markdown",
   "metadata": {},
   "source": [
    "Ok, so give this a shot. Write $ f(x) = 4x^3 + 11x^2 $ as a list of terms.  Assign it to the variable `four_x_cubed_plus_eleven_x_squared`."
   ]
  },
  {
   "cell_type": "code",
   "execution_count": 2,
   "metadata": {},
   "outputs": [],
   "source": [
    "four_x_cubed_plus_eleven_x_squared = [(4, 3), (11, 2)]"
   ]
  },
  {
   "cell_